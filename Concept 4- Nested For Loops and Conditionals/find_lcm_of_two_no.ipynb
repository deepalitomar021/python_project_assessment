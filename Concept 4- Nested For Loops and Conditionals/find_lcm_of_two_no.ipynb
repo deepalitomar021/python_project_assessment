{
 "cells": [
  {
   "cell_type": "markdown",
   "metadata": {},
   "source": [
    "# 2. Given two numbers, find its Least Common Multiple (LCM)"
   ]
  },
  {
   "cell_type": "code",
   "execution_count": 6,
   "metadata": {},
   "outputs": [],
   "source": [
    "# lcm is the product of two numbers divided by their common factors.\n",
    "def find_lcm(n1,n2):\n",
    "    if n1>0 and n2>0:\n",
    "        a=n1*n2  \n",
    "        if n1==n2:                           \n",
    "            lcm=n1\n",
    "        elif n1>n2:\n",
    "            for i in range(2,n1+1):       \n",
    "                if n1%i==0 and n2%i==0:      # find the common divisors\n",
    "                    a/=i                    # divide the product by the common divisors one by one.\n",
    "            lcm=int(a)\n",
    "        else:\n",
    "            for i in range(2,n2+1):\n",
    "                if n1%i==0 and n2%i==0:            # find the common divisors\n",
    "                    a/=i                            # divide the product by the common divisors one by one.\n",
    "            lcm=int(a)\n",
    "    else:\n",
    "        lcm='please enter positive numbers'\n",
    "    return lcm"
   ]
  },
  {
   "cell_type": "code",
   "execution_count": 4,
   "metadata": {},
   "outputs": [
    {
     "data": {
      "text/plain": [
       "6"
      ]
     },
     "execution_count": 4,
     "metadata": {},
     "output_type": "execute_result"
    }
   ],
   "source": [
    "find_lcm(3,2)"
   ]
  },
  {
   "cell_type": "code",
   "execution_count": 3,
   "metadata": {},
   "outputs": [
    {
     "data": {
      "text/plain": [
       "'please enter positive numbers'"
      ]
     },
     "execution_count": 3,
     "metadata": {},
     "output_type": "execute_result"
    }
   ],
   "source": [
    "find_lcm(0,1)"
   ]
  },
  {
   "cell_type": "code",
   "execution_count": 7,
   "metadata": {},
   "outputs": [
    {
     "data": {
      "text/plain": [
       "4"
      ]
     },
     "execution_count": 7,
     "metadata": {},
     "output_type": "execute_result"
    }
   ],
   "source": [
    "find_lcm(2,4)"
   ]
  }
 ],
 "metadata": {
  "kernelspec": {
   "display_name": "Python 3",
   "language": "python",
   "name": "python3"
  },
  "language_info": {
   "codemirror_mode": {
    "name": "ipython",
    "version": 3
   },
   "file_extension": ".py",
   "mimetype": "text/x-python",
   "name": "python",
   "nbconvert_exporter": "python",
   "pygments_lexer": "ipython3",
   "version": "3.11.4"
  }
 },
 "nbformat": 4,
 "nbformat_minor": 2
}
