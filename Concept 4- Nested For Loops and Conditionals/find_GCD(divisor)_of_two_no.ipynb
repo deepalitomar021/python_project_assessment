{
 "cells": [
  {
   "cell_type": "markdown",
   "metadata": {},
   "source": [
    "# 3. Given two numbers, find its Greatest Common Divisor(Divisor)"
   ]
  },
  {
   "cell_type": "code",
   "execution_count": 2,
   "metadata": {},
   "outputs": [],
   "source": [
    "# greatest common divisor is the greatest no. which divide both the number.\n",
    "def find_GCD(n1,n2):\n",
    "    if n1>0 and n2>0:\n",
    "        if n1==n2:             \n",
    "            GCD=n1\n",
    "        elif n1>n2:   \n",
    "            for i in range(1,n2+1): # range till smaller no. because no any no. which is greater than the smaller from given two which divide both the numbers.\n",
    "                if n1%i==0 and n2%i==0:    # find which divide both the numbers \n",
    "                    GCD=i                  # update the common divisor by greater one \n",
    "        else:\n",
    "            for i in range(1,n1+1):\n",
    "                if n1%i==0 and n2%i==0:\n",
    "                    GCD=i\n",
    "    else:\n",
    "        GCD='please enter positive numbers'\n",
    "    return GCD"
   ]
  },
  {
   "cell_type": "code",
   "execution_count": 3,
   "metadata": {},
   "outputs": [
    {
     "data": {
      "text/plain": [
       "1"
      ]
     },
     "execution_count": 3,
     "metadata": {},
     "output_type": "execute_result"
    }
   ],
   "source": [
    "find_GCD(1,1)"
   ]
  },
  {
   "cell_type": "code",
   "execution_count": 4,
   "metadata": {},
   "outputs": [
    {
     "data": {
      "text/plain": [
       "5"
      ]
     },
     "execution_count": 4,
     "metadata": {},
     "output_type": "execute_result"
    }
   ],
   "source": [
    "find_GCD(10,5)"
   ]
  },
  {
   "cell_type": "code",
   "execution_count": 7,
   "metadata": {},
   "outputs": [
    {
     "data": {
      "text/plain": [
       "'please enter positive numbers'"
      ]
     },
     "execution_count": 7,
     "metadata": {},
     "output_type": "execute_result"
    }
   ],
   "source": [
    "find_GCD(-3,9)\n"
   ]
  }
 ],
 "metadata": {
  "kernelspec": {
   "display_name": "Python 3",
   "language": "python",
   "name": "python3"
  },
  "language_info": {
   "codemirror_mode": {
    "name": "ipython",
    "version": 3
   },
   "file_extension": ".py",
   "mimetype": "text/x-python",
   "name": "python",
   "nbconvert_exporter": "python",
   "pygments_lexer": "ipython3",
   "version": "3.11.4"
  }
 },
 "nbformat": 4,
 "nbformat_minor": 2
}
