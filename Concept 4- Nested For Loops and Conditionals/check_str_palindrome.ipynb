{
 "cells": [
  {
   "cell_type": "markdown",
   "metadata": {},
   "source": [
    "# 9. Given a string input, find out it's palindrome or not"
   ]
  },
  {
   "cell_type": "code",
   "execution_count": 2,
   "metadata": {},
   "outputs": [],
   "source": [
    "def check(str):            # palindrome string means string is same on reading it from both the sides simultaneously.\n",
    "    str1=str.lower() # convert all the string in lower or upper to remove problem of on reading ex. a and A is not different. \n",
    "    for i in range(int(len(str1)/2)):\n",
    "        if str1[i]!=str1[-(i+1)]:       # check the elements from starting and ending are same or not one by one, if not \n",
    "            ans='given string is not palindrome'              # print not palindrome else print palindrome.\n",
    "        else:\n",
    "            ans='given string is a palindrome'\n",
    "    return ans"
   ]
  },
  {
   "cell_type": "code",
   "execution_count": 6,
   "metadata": {},
   "outputs": [
    {
     "data": {
      "text/plain": [
       "'given string is a palindrome'"
      ]
     },
     "execution_count": 6,
     "metadata": {},
     "output_type": "execute_result"
    }
   ],
   "source": [
    "check('my best frienD a dneirf tseb yM')"
   ]
  },
  {
   "cell_type": "code",
   "execution_count": 6,
   "metadata": {},
   "outputs": [
    {
     "data": {
      "text/plain": [
       "'given string is not palindrome'"
      ]
     },
     "execution_count": 6,
     "metadata": {},
     "output_type": "execute_result"
    }
   ],
   "source": [
    "check('deojjnve cekcpwjk')"
   ]
  }
 ],
 "metadata": {
  "kernelspec": {
   "display_name": "Python 3",
   "language": "python",
   "name": "python3"
  },
  "language_info": {
   "codemirror_mode": {
    "name": "ipython",
    "version": 3
   },
   "file_extension": ".py",
   "mimetype": "text/x-python",
   "name": "python",
   "nbconvert_exporter": "python",
   "pygments_lexer": "ipython3",
   "version": "3.11.4"
  }
 },
 "nbformat": 4,
 "nbformat_minor": 2
}
