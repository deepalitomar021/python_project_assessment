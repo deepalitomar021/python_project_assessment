{
 "cells": [
  {
   "cell_type": "markdown",
   "metadata": {},
   "source": [
    "# 5. Given a positive integer, find out the sum of all prime numbers from 1 upto this number"
   ]
  },
  {
   "cell_type": "code",
   "execution_count": 1,
   "metadata": {},
   "outputs": [
    {
     "name": "stdout",
     "output_type": "stream",
     "text": [
      "sum of all prime numbers upto 3 is\n",
      "5\n"
     ]
    }
   ],
   "source": [
    "num=int(input(\"enter any positive no.\"))\n",
    "if num==1:\n",
    "    print(\"sum of primes upto 1 = 0\")\n",
    "elif num>1:\n",
    "    print(\"sum of all prime numbers upto\",num,\"is\")\n",
    "    sum_prime=0         # assign a variable which can store the sum of primes.\n",
    "    for i in range(2,num+1):  # range start from 2 because 2 is the smallest prime no.\n",
    "        d=int(i**0.5)         # store the int value of the root \n",
    "        a=0\n",
    "        for j in range(2,d+1): \n",
    "            if i%j==0:              # if a no. is not fully divisible by any no. from 2 to their square, then it is a prime no.  \n",
    "                a+=1\n",
    "        if a==0:\n",
    "            sum_prime+=i           # if there is any prime number, add tham into the sum one by one\n",
    "    print(sum_prime)\n",
    "else:\n",
    "    print(\"please enter a positive no.\")\n"
   ]
  }
 ],
 "metadata": {
  "kernelspec": {
   "display_name": "Python 3",
   "language": "python",
   "name": "python3"
  },
  "language_info": {
   "codemirror_mode": {
    "name": "ipython",
    "version": 3
   },
   "file_extension": ".py",
   "mimetype": "text/x-python",
   "name": "python",
   "nbconvert_exporter": "python",
   "pygments_lexer": "ipython3",
   "version": "3.11.4"
  }
 },
 "nbformat": 4,
 "nbformat_minor": 2
}
