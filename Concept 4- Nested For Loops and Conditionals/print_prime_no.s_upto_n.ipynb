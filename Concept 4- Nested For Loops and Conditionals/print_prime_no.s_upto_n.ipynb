{
 "cells": [
  {
   "cell_type": "markdown",
   "metadata": {},
   "source": [
    "# 4. Given a positive integer, find out all the prime numbers from 1 upto this number"
   ]
  },
  {
   "cell_type": "code",
   "execution_count": 1,
   "metadata": {},
   "outputs": [
    {
     "name": "stdout",
     "output_type": "stream",
     "text": [
      "prime no. upto 11 are\n",
      "2\n",
      "3\n",
      "5\n",
      "7\n",
      "11\n"
     ]
    }
   ],
   "source": [
    "num=int(input(\"enter any positive integer\"))\n",
    "if num==1:                                       \n",
    "    print(\"1 is first positive no. and it is not a prime.\")\n",
    "elif num>1:\n",
    "    print(\"prime no. upto\",num,\"are\")\n",
    "    for i in range(2,num+1):               # range start from 2 b'coz 2 is the smaller prime.\n",
    "        a=int(i**0.5)            # find int value of the root of every no. one by one.\n",
    "        b=0                      \n",
    "        for j in range(2,a+1):       \n",
    "            if i%j==0:        # if a no. is not fully divisible by any no. from 2 to their square, then it is a prime no.  \n",
    "                b+=1\n",
    "        if b==0:\n",
    "            print(i)\n",
    "else:\n",
    "    print(\"please enter a positive integer\")\n"
   ]
  }
 ],
 "metadata": {
  "kernelspec": {
   "display_name": "Python 3",
   "language": "python",
   "name": "python3"
  },
  "language_info": {
   "codemirror_mode": {
    "name": "ipython",
    "version": 3
   },
   "file_extension": ".py",
   "mimetype": "text/x-python",
   "name": "python",
   "nbconvert_exporter": "python",
   "pygments_lexer": "ipython3",
   "version": "3.11.4"
  }
 },
 "nbformat": 4,
 "nbformat_minor": 2
}
