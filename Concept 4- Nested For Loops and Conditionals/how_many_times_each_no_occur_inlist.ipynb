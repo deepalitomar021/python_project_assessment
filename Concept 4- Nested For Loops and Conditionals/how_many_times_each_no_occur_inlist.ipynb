{
 "cells": [
  {
   "cell_type": "markdown",
   "metadata": {},
   "source": [
    "# 6. Given a list of numbers, find out how many times each number occurs in the list."
   ]
  },
  {
   "cell_type": "code",
   "execution_count": 1,
   "metadata": {},
   "outputs": [
    {
     "name": "stdout",
     "output_type": "stream",
     "text": [
      "2 is 2 times in the given list\n",
      "3 is 3 times in the given list\n",
      "4 is 3 times in the given list\n",
      "7 is 4 times in the given list\n",
      "6 is 1 times in the given list\n",
      "5 is 3 times in the given list\n",
      "23 is 1 times in the given list\n",
      "-1 is 5 times in the given list\n",
      "-3 is 1 times in the given list\n",
      "56 is 1 times in the given list\n"
     ]
    }
   ],
   "source": [
    "lst=[2,3,4,7,6,5,4,23,-1,-1,-3,-1,-1,-1,3,5,56,7,7,5,2,3,4,7,]\n",
    "lst1=[]             # create an empty list\n",
    "for i in lst:\n",
    "    if i not in lst1:\n",
    "        lst1.append(i)      # add no.s in the empty list non-repeatedly\n",
    "for j in lst1:              # iterate from the new list one by one\n",
    "    count=0            # assign a variable which can store how many times a no. is repeat in the given list.\n",
    "    for k in lst:       # iterate from given list\n",
    "        if j==k:              \n",
    "            count+=1       # how many times any element repeat, increase its count value by 1\n",
    "    print(j,\"is\",count,\"times in the given list\")\n",
    "\n",
    "    "
   ]
  }
 ],
 "metadata": {
  "kernelspec": {
   "display_name": "Python 3",
   "language": "python",
   "name": "python3"
  },
  "language_info": {
   "codemirror_mode": {
    "name": "ipython",
    "version": 3
   },
   "file_extension": ".py",
   "mimetype": "text/x-python",
   "name": "python",
   "nbconvert_exporter": "python",
   "pygments_lexer": "ipython3",
   "version": "3.11.4"
  }
 },
 "nbformat": 4,
 "nbformat_minor": 2
}
