{
 "cells": [
  {
   "cell_type": "markdown",
   "metadata": {},
   "source": [
    "# 7. Given a list of integers, find all pairs of integers in the list whose sum is zero."
   ]
  },
  {
   "cell_type": "code",
   "execution_count": 1,
   "metadata": {},
   "outputs": [
    {
     "name": "stdout",
     "output_type": "stream",
     "text": [
      "sum of these pairs of integers is 0\n",
      "(3, -3)\n",
      "(4, -4)\n",
      "(6, -6)\n",
      "(8, -8)\n"
     ]
    }
   ],
   "source": [
    "lst=[3,4,5,6,7,8,9,-3,0,-4,-6,-8]\n",
    "print(\"sum of these pairs of integers is 0\")\n",
    "lst_new=[]                     # create an empty list which can store only the positive numbers from the list.\n",
    "\n",
    "for i in lst:                  \n",
    "    if i>0:                    # if list element is +ve\n",
    "        lst_new.append(i)        # append into lst_new\n",
    "    for j in lst_new:           # iterate the elements from lst_new\n",
    "        if i+j==0:   # if sum of any element in lst_new and any element in given lst is 0 i.e. both numbers differ by sign(+,-)\n",
    "            print((j, i))        # print both of them in a pair."
   ]
  }
 ],
 "metadata": {
  "kernelspec": {
   "display_name": "Python 3",
   "language": "python",
   "name": "python3"
  },
  "language_info": {
   "codemirror_mode": {
    "name": "ipython",
    "version": 3
   },
   "file_extension": ".py",
   "mimetype": "text/x-python",
   "name": "python",
   "nbconvert_exporter": "python",
   "pygments_lexer": "ipython3",
   "version": "3.11.4"
  }
 },
 "nbformat": 4,
 "nbformat_minor": 2
}
