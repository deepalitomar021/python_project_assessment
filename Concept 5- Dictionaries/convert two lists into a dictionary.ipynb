{
 "cells": [
  {
   "cell_type": "markdown",
   "metadata": {},
   "source": [
    "# 1.Convert these two list into a dictionary. Take the keys from the first list, and values from the second one.\n",
    "# keys=['ten','twenty','thirty'],   \n",
    "# values=[10,20,30]"
   ]
  },
  {
   "cell_type": "code",
   "execution_count": 2,
   "metadata": {},
   "outputs": [
    {
     "name": "stdout",
     "output_type": "stream",
     "text": [
      "{'ten': 10, 'twenty': 20, 'thirty': 30}\n"
     ]
    }
   ],
   "source": [
    "#  firstly we have to take both lists.\n",
    "keys=['ten','twenty','thirty']\n",
    "values=[10,20,30]\n",
    "# now we create an empty dictionary.\n",
    "dict0={}\n",
    "# we have to compare the length of both lists because key, value exist in pair.\n",
    "if len(keys)==len(values):\n",
    "    # we run a for loop in range of the length of lists.\n",
    "    for i in range(len(keys)):\n",
    "        # now, take key from list keys and value from list values one by one and put into the empty dictionary.\n",
    "        dict0[keys[i]]=values[i]\n",
    "print(dict0)\n",
    "\n",
    "#program finished!"
   ]
  }
 ],
 "metadata": {
  "kernelspec": {
   "display_name": "Python 3",
   "language": "python",
   "name": "python3"
  },
  "language_info": {
   "codemirror_mode": {
    "name": "ipython",
    "version": 3
   },
   "file_extension": ".py",
   "mimetype": "text/x-python",
   "name": "python",
   "nbconvert_exporter": "python",
   "pygments_lexer": "ipython3",
   "version": "3.11.4"
  }
 },
 "nbformat": 4,
 "nbformat_minor": 2
}
