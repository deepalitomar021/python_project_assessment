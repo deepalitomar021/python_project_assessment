{
 "cells": [
  {
   "cell_type": "markdown",
   "metadata": {},
   "source": [
    "Create a dictionary to store the total marks of 5 students in the class in 3 subjects (Course1, Course2, Course3). \n",
    "The keys must be the student names, and the values must be the list of marks.\n",
    "Create another list which has the course names in the same order as the marks are stored in the dictionary values.\n",
    "Now write a nested for loop to print the marks for each student exam wise.\n",
    "# Student1\n",
    "Course1 marks : 82,\n",
    "Course2 marks : 84,\n",
    " Course3 marks : 72,\n",
    "# Student2\n",
    "Course1 marks : 87,\n",
    "Course2 marks : 83,\n",
    "Course3 marks : 78"
   ]
  },
  {
   "cell_type": "code",
   "execution_count": 5,
   "metadata": {},
   "outputs": [
    {
     "name": "stdout",
     "output_type": "stream",
     "text": [
      "Name: Deepali\n",
      "Marks:-\n",
      "python : 82\n",
      "itc : 84\n",
      "maths : 72\n",
      "\n",
      "\n",
      "Name: sakshi\n",
      "Marks:-\n",
      "python : 87\n",
      "itc : 83\n",
      "maths : 78\n",
      "\n",
      "\n"
     ]
    }
   ],
   "source": [
    "dict_data={'Deepali':[82,84,72],\n",
    "           'sakshi':[87,83,78]}\n",
    "course_n=['python','itc','maths']            # create a list with subject wise as marks given in the value of dict\n",
    "for key,value in dict_data.items():          # iterate keys and values from dict.\n",
    "    print('Name:',key)                       # firstly print student name from the key of dict.\n",
    "    print(\"Marks:-\")                       \n",
    "    for i in range(len(course_n)):           # now, we have to print the subject marks one by one, so take the range as length of course name list.\n",
    "        print(course_n[i],':',value[i])     # now, print course name from course_n dict and marks from the value of dict one by one.\n",
    "    print(\"\\n\")                              # \"\\n create gap \""
   ]
  }
 ],
 "metadata": {
  "kernelspec": {
   "display_name": "Python 3",
   "language": "python",
   "name": "python3"
  },
  "language_info": {
   "codemirror_mode": {
    "name": "ipython",
    "version": 3
   },
   "file_extension": ".py",
   "mimetype": "text/x-python",
   "name": "python",
   "nbconvert_exporter": "python",
   "pygments_lexer": "ipython3",
   "version": "3.11.4"
  }
 },
 "nbformat": 4,
 "nbformat_minor": 2
}
