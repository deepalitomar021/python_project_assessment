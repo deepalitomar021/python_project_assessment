{
 "cells": [
  {
   "cell_type": "markdown",
   "metadata": {},
   "source": [
    "# 2. Merge these two dictionaries into one using for loop\n",
    "# dict1 = {‘Ten’: 10, ‘Twenty’: 20, ‘Thirty’: 30}\n",
    "# dict2 = {‘Thirty’: 30, ‘Fourty’: 40, ‘Fifty’: 50}"
   ]
  },
  {
   "cell_type": "code",
   "execution_count": 1,
   "metadata": {},
   "outputs": [
    {
     "name": "stdout",
     "output_type": "stream",
     "text": [
      "{'Ten': 10, 'Twenty': 20, 'Thirty': 30, 'Fourty': 40, 'Fifty': 50}\n"
     ]
    }
   ],
   "source": [
    "# method-1\n",
    "dict1 = {'Ten': 10, 'Twenty': 20, 'Thirty': 30}\n",
    "dict2 = {'Thirty': 30, 'Fourty': 40, 'Fifty': 50}\n",
    "dict3={}                                # create an empty dict. in which you can add both dict.s\n",
    "for key,value in dict1.items():         # iterate key, value pairs from dict1 \n",
    "    dict3[key]=value                    # add them into new dict.\n",
    "for key,value in dict2.items():         # after adding 1st dict to new dict, iterate key, value pairs from 2nd dict\n",
    "    if key not in dict3.keys():         # if the key is not present in new dict\n",
    "        dict3[key]=value                # add key value pairs into new dict.\n",
    "print(dict3)"
   ]
  },
  {
   "cell_type": "code",
   "execution_count": 2,
   "metadata": {},
   "outputs": [
    {
     "name": "stdout",
     "output_type": "stream",
     "text": [
      "{'Ten': 10, 'Twenty': 20, 'Thirty': 30, 'Fourty': 40, 'Fifty': 50}\n"
     ]
    }
   ],
   "source": [
    "#method -2\n",
    "dict3={}                                 #create an empty dict\n",
    "dict3=dict1.copy()                      #copy the dict1 into new dict.\n",
    "for key,value in dict2.items():           #iterate key, value pairs from dict2\n",
    "    if key not in dict3.keys():           # if key not present in new dict\n",
    "        dict3[key]=value                  # add them into new dict\n",
    "print(dict3)"
   ]
  }
 ],
 "metadata": {
  "kernelspec": {
   "display_name": "Python 3",
   "language": "python",
   "name": "python3"
  },
  "language_info": {
   "codemirror_mode": {
    "name": "ipython",
    "version": 3
   },
   "file_extension": ".py",
   "mimetype": "text/x-python",
   "name": "python",
   "nbconvert_exporter": "python",
   "pygments_lexer": "ipython3",
   "version": "3.11.4"
  }
 },
 "nbformat": 4,
 "nbformat_minor": 2
}
