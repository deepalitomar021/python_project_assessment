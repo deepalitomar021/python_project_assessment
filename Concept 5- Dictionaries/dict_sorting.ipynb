{
 "cells": [
  {
   "cell_type": "markdown",
   "metadata": {},
   "source": [
    " 8. Create a dictionary of your marks in various subjects and then sort it by its values first in descending order and then in or ascending order. Do not use any inbuilt sorting function."
   ]
  },
  {
   "cell_type": "code",
   "execution_count": 8,
   "metadata": {},
   "outputs": [
    {
     "name": "stdout",
     "output_type": "stream",
     "text": [
      "{'english': 84, 'cs': 87, 'physics': 89, 'chemistry': 94, 'maths': 95}\n"
     ]
    }
   ],
   "source": [
    "# in Ascending order\n",
    "dict_marks={\"physics\":89,\"chemistry\":94,\"maths\":95,\"english\":84,\"cs\":87}\n",
    "lst1=[]                 # to store values\n",
    "lst2=[]                 # to store keys \n",
    "sorted_dict={}            \n",
    "for key,value in dict_marks.items():              \n",
    "    lst1.append(value)\n",
    "    lst2.append(key)\n",
    "for i in range(len(lst1)):          # we have to find the smallest one len(lst1) times.\n",
    "    a=lst1[0]                       # store first value from the list\n",
    "    b=0                             # to store the index value for keys\n",
    "    for j in lst1:                  # iterate the values from lst1 \n",
    "        b+=1                \n",
    "        if j<=a:                # which value is smaller than first\n",
    "            a=j                 # update by that value\n",
    "            n=b                 # store at which index smaller value is\n",
    "    sorted_dict[lst2[n-1]]=a          # add key value one bye one in dict\n",
    "    lst1.remove(a)                    # remove the smallest value from the lst1\n",
    "    lst2.remove(lst2[n-1])            # remove the corresponding key from lst2.\n",
    "print(sorted_dict)"
   ]
  },
  {
   "cell_type": "code",
   "execution_count": 1,
   "metadata": {},
   "outputs": [
    {
     "name": "stdout",
     "output_type": "stream",
     "text": [
      "{'maths': 95, 'chemistry': 94, 'physics': 89, 'cs': 87, 'english': 84}\n"
     ]
    }
   ],
   "source": [
    "# in descending order\n",
    "\n",
    "dict_marks={\"physics\":89,\"chemistry\":94,\"maths\":95,\"english\":84,\"cs\":87}\n",
    "lst1=[]                 \n",
    "lst2=[]                 \n",
    "sorted_dict={}            \n",
    "for key,value in dict_marks.items():              \n",
    "    lst1.append(value)\n",
    "    lst2.append(key)\n",
    "for i in range(len(lst1)):     \n",
    "    a=lst1[0]                       \n",
    "    b=0                          \n",
    "    for j in lst1:              \n",
    "        b+=1                \n",
    "        if j>=a:              \n",
    "            a=j                \n",
    "            n=b                 \n",
    "    sorted_dict[lst2[n-1]]=a       \n",
    "    lst1.remove(a)                    \n",
    "    lst2.remove(lst2[n-1])       \n",
    "print(sorted_dict)"
   ]
  }
 ],
 "metadata": {
  "kernelspec": {
   "display_name": "Python 3",
   "language": "python",
   "name": "python3"
  },
  "language_info": {
   "codemirror_mode": {
    "name": "ipython",
    "version": 3
   },
   "file_extension": ".py",
   "mimetype": "text/x-python",
   "name": "python",
   "nbconvert_exporter": "python",
   "pygments_lexer": "ipython3",
   "version": "3.11.4"
  }
 },
 "nbformat": 4,
 "nbformat_minor": 2
}
