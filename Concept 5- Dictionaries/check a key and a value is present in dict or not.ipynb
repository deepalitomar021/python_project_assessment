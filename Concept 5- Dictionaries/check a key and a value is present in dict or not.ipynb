{
 "cells": [
  {
   "cell_type": "markdown",
   "metadata": {},
   "source": [
    "# 3.Check if a key exists in a dictionary:\n",
    "sample_dict = {‘a’: 100, ‘b’: 200, ‘c’: 300}\n",
    "# key_needed = ‘d’\n",
    "Check if a value exists in a dictionary:\n",
    "sample_dict = {‘a’: 100, ‘b’: 200, ‘c’: 300}\n",
    "# value_needed = 200"
   ]
  },
  {
   "cell_type": "code",
   "execution_count": 3,
   "metadata": {},
   "outputs": [
    {
     "name": "stdout",
     "output_type": "stream",
     "text": [
      "d is not in dictionary\n",
      "200 is in dictionary\n"
     ]
    }
   ],
   "source": [
    "sample_dict={'a':100, 'b':200, 'c':300}\n",
    "key_lst=sample_dict.keys()           # store the keys\n",
    "value_lst=sample_dict.values()       #store the values\n",
    "key_needed=input(\"enter the key which you want to find\")          \n",
    "value_needed=int(input(\"enter the value which you want to find\"))\n",
    "if key_needed in key_lst:                      # check the key_needed is in dict or not \n",
    "    print(key_needed,\"is in dictionary\")\n",
    "else:\n",
    "    print(key_needed,\"is not in dictionary\")\n",
    "if value_needed in value_lst:                   # check the value_needed is in dict or not\n",
    "    print(value_needed,\"is in dictionary\")\n",
    "else:\n",
    "    print(value_needed,\"is not in dictionary\")"
   ]
  }
 ],
 "metadata": {
  "kernelspec": {
   "display_name": "Python 3",
   "language": "python",
   "name": "python3"
  },
  "language_info": {
   "codemirror_mode": {
    "name": "ipython",
    "version": 3
   },
   "file_extension": ".py",
   "mimetype": "text/x-python",
   "name": "python",
   "nbconvert_exporter": "python",
   "pygments_lexer": "ipython3",
   "version": "3.11.4"
  }
 },
 "nbformat": 4,
 "nbformat_minor": 2
}
