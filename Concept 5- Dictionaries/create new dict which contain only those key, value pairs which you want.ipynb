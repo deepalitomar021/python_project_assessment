{
 "cells": [
  {
   "cell_type": "markdown",
   "metadata": {},
   "source": [
    "# 4. Create a new dictionary so that it only has the keys mentioned in another list\n",
    "sample_dict = { “name”: “Kelly”, “age”: 25, “salary”: 8000, “city”: “New york”}\n",
    "# Keys to extract\n",
    "keys = [“name”, “salary”]"
   ]
  },
  {
   "cell_type": "code",
   "execution_count": 1,
   "metadata": {},
   "outputs": [
    {
     "name": "stdout",
     "output_type": "stream",
     "text": [
      "{'name': 'Kelly', 'salary': 8000}\n"
     ]
    }
   ],
   "source": [
    "sample_dict={ \"name\": \"Kelly\", \"age\": 25, \"salary\": 8000, \"city\": \"New york\"}\n",
    "keys=[\"name\",\"salary\"]\n",
    "dict_new={}         # create an empty dict.\n",
    "for i in keys:                # iterate from the list of keys we want in the new list\n",
    "    dict_new[i]=sample_dict[i]         # add these keys and their values in new dict.\n",
    "print(dict_new)"
   ]
  }
 ],
 "metadata": {
  "kernelspec": {
   "display_name": "Python 3",
   "language": "python",
   "name": "python3"
  },
  "language_info": {
   "codemirror_mode": {
    "name": "ipython",
    "version": 3
   },
   "file_extension": ".py",
   "mimetype": "text/x-python",
   "name": "python",
   "nbconvert_exporter": "python",
   "pygments_lexer": "ipython3",
   "version": "3.11.4"
  }
 },
 "nbformat": 4,
 "nbformat_minor": 2
}
