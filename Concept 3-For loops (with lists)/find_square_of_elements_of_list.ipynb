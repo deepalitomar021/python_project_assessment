{
 "cells": [
  {
   "cell_type": "markdown",
   "metadata": {},
   "source": [
    "# 2. Given a list of numbers,find the squares of all the numbers."
   ]
  },
  {
   "cell_type": "code",
   "execution_count": 3,
   "metadata": {},
   "outputs": [
    {
     "name": "stdout",
     "output_type": "stream",
     "text": [
      "square of 2 = 4\n",
      "square of 3 = 9\n",
      "square of 5 = 25\n",
      "square of -6 = 36\n",
      "square of -7 = 49\n",
      "square of 0 = 0\n",
      "square of -4 = 16\n"
     ]
    }
   ],
   "source": [
    "lst=[2,3,5,-6,-7,0,-4]\n",
    "for i in lst:                       # take the number one by one from the list.\n",
    "    square=i*i                      # find the square one by one by multiplying the no. with the same no.\n",
    "    print(\"square of\",i,\"=\",square)"
   ]
  }
 ],
 "metadata": {
  "kernelspec": {
   "display_name": "Python 3",
   "language": "python",
   "name": "python3"
  },
  "language_info": {
   "codemirror_mode": {
    "name": "ipython",
    "version": 3
   },
   "file_extension": ".py",
   "mimetype": "text/x-python",
   "name": "python",
   "nbconvert_exporter": "python",
   "pygments_lexer": "ipython3",
   "version": "3.11.4"
  }
 },
 "nbformat": 4,
 "nbformat_minor": 2
}
