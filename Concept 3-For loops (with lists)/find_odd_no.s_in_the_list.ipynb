{
 "cells": [
  {
   "cell_type": "markdown",
   "metadata": {},
   "source": [
    "# 6. Given a list of numbers, find all the odd numbers in it."
   ]
  },
  {
   "cell_type": "code",
   "execution_count": 2,
   "metadata": {},
   "outputs": [],
   "source": [
    "def find_all_odd_nums(lst):\n",
    "    print(\"All the odd numbers in the list\",lst,\"are\")            \n",
    "    for i in lst:\n",
    "        if i>0 and i%2==1:        # if the no. is greater than zero and leaves 1 as remainder when divisible by 2, then it is an odd no.\n",
    "            print(i)"
   ]
  },
  {
   "cell_type": "code",
   "execution_count": 3,
   "metadata": {},
   "outputs": [
    {
     "name": "stdout",
     "output_type": "stream",
     "text": [
      "All the odd numbers in the list [2, 5, -6, 0, 1, 9, -8, 11, 12, 19] are\n",
      "5\n",
      "1\n",
      "9\n",
      "11\n",
      "19\n"
     ]
    }
   ],
   "source": [
    "find_all_odd_nums([2, 5, -6, 0, 1, 9, -8, 11, 12,19])"
   ]
  },
  {
   "cell_type": "code",
   "execution_count": 4,
   "metadata": {},
   "outputs": [
    {
     "name": "stdout",
     "output_type": "stream",
     "text": [
      "All the odd numbers in the list [1, 33, 6, 10, 7, -4] are\n",
      "1\n",
      "33\n",
      "7\n"
     ]
    }
   ],
   "source": [
    "find_all_odd_nums([1,33,6,10,7,-4])"
   ]
  }
 ],
 "metadata": {
  "kernelspec": {
   "display_name": "Python 3",
   "language": "python",
   "name": "python3"
  },
  "language_info": {
   "codemirror_mode": {
    "name": "ipython",
    "version": 3
   },
   "file_extension": ".py",
   "mimetype": "text/x-python",
   "name": "python",
   "nbconvert_exporter": "python",
   "pygments_lexer": "ipython3",
   "version": "3.11.4"
  }
 },
 "nbformat": 4,
 "nbformat_minor": 2
}
