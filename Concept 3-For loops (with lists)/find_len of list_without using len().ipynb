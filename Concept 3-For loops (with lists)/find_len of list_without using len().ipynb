{
 "cells": [
  {
   "cell_type": "markdown",
   "metadata": {},
   "source": [
    "# 1. Given a list of numbers, find out its length."
   ]
  },
  {
   "cell_type": "code",
   "execution_count": 1,
   "metadata": {},
   "outputs": [
    {
     "name": "stdout",
     "output_type": "stream",
     "text": [
      "length of  [2, 4, -3, 0, 5, 6, 8, 9] =  8\n"
     ]
    }
   ],
   "source": [
    "lst=[2,4,-3,0,5,6,8,9]\n",
    "len_lst=0                    # assign a variable which can store the length of the list\n",
    "for i in lst:\n",
    "    len_lst+=1               # if any element is in list, increase the len variable value by 1\n",
    "print(\"length of \",lst,\"= \",len_lst)"
   ]
  }
 ],
 "metadata": {
  "kernelspec": {
   "display_name": "Python 3",
   "language": "python",
   "name": "python3"
  },
  "language_info": {
   "codemirror_mode": {
    "name": "ipython",
    "version": 3
   },
   "file_extension": ".py",
   "mimetype": "text/x-python",
   "name": "python",
   "nbconvert_exporter": "python",
   "pygments_lexer": "ipython3",
   "version": "3.11.4"
  }
 },
 "nbformat": 4,
 "nbformat_minor": 2
}
