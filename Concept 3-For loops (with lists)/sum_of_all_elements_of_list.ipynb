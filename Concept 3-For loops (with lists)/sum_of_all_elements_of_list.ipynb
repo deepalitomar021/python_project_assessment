{
 "cells": [
  {
   "cell_type": "markdown",
   "metadata": {},
   "source": [
    "# 3. Given a list of numbers, find the sum of all the numbers"
   ]
  },
  {
   "cell_type": "code",
   "execution_count": 4,
   "metadata": {},
   "outputs": [
    {
     "name": "stdout",
     "output_type": "stream",
     "text": [
      "sum of all elements of  [3, 4, -4, 6, 0, -4, 9]  =  14\n"
     ]
    }
   ],
   "source": [
    "lst=[3,4,-4,6,0,-4,9]\n",
    "sum_lst=0                # assign a variable which can store the sum.\n",
    "for i in lst:\n",
    "    sum_lst+=i           # add one by one in the previous sum.\n",
    "print(\"sum of all elements of \",lst,\" = \",sum_lst)"
   ]
  }
 ],
 "metadata": {
  "kernelspec": {
   "display_name": "Python 3",
   "language": "python",
   "name": "python3"
  },
  "language_info": {
   "codemirror_mode": {
    "name": "ipython",
    "version": 3
   },
   "file_extension": ".py",
   "mimetype": "text/x-python",
   "name": "python",
   "nbconvert_exporter": "python",
   "pygments_lexer": "ipython3",
   "version": "3.11.4"
  }
 },
 "nbformat": 4,
 "nbformat_minor": 2
}
