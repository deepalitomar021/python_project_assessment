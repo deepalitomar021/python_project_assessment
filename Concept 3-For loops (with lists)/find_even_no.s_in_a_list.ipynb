{
 "cells": [
  {
   "cell_type": "markdown",
   "metadata": {},
   "source": [
    "# 5. Given a list of numbers, find all the even numbers in it."
   ]
  },
  {
   "cell_type": "code",
   "execution_count": 1,
   "metadata": {},
   "outputs": [
    {
     "name": "stdout",
     "output_type": "stream",
     "text": [
      "Even numbers in the list  [2, 5, -6, 0, 6, 9, -8, 10, 12] are\n",
      "2\n",
      "6\n",
      "10\n",
      "12\n"
     ]
    }
   ],
   "source": [
    "lst=[2,5,-6,0,6,9,-8,10,12]\n",
    "print(\"Even numbers in the list \",lst,\"are\")\n",
    "for i in lst:\n",
    "    if i>0 and i%2==0:           # check if the number is greater than zero and fully divisible by 2, then it is aneven number.\n",
    "        print(i)"
   ]
  }
 ],
 "metadata": {
  "kernelspec": {
   "display_name": "Python 3",
   "language": "python",
   "name": "python3"
  },
  "language_info": {
   "codemirror_mode": {
    "name": "ipython",
    "version": 3
   },
   "file_extension": ".py",
   "mimetype": "text/x-python",
   "name": "python",
   "nbconvert_exporter": "python",
   "pygments_lexer": "ipython3",
   "version": "3.11.4"
  }
 },
 "nbformat": 4,
 "nbformat_minor": 2
}
