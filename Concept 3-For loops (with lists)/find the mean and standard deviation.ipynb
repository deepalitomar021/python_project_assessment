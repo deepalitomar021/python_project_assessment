{
 "cells": [
  {
   "cell_type": "markdown",
   "metadata": {},
   "source": [
    "# 4. Given a list of numbers, find out the mean and standard deviation."
   ]
  },
  {
   "cell_type": "code",
   "execution_count": 1,
   "metadata": {},
   "outputs": [
    {
     "name": "stdout",
     "output_type": "stream",
     "text": [
      "Mean of the given list=  4.0\n",
      "standard deviation of the given list =  4.147288270665544\n"
     ]
    }
   ],
   "source": [
    "lst=[3,8,5,-2,6,-3,0,10,6,7]\n",
    "len_lst=0                   # assign a variable which can store the length of list\n",
    "sum_lst=0                   #  assign a variable which can store the sum of list\n",
    "x=0                         # it store the sum of (element of list - mean)**2 for the standard deviation.\n",
    "for i in lst:\n",
    "    len_lst+=1\n",
    "    sum_lst+=i\n",
    "mean_lst=sum_lst/len_lst              # mean of some data is the sum of data divided by how many data are there.\n",
    "for j in lst:\n",
    "    x+=(j-mean_lst)**2                      \n",
    "stan_dev=(x/len_lst)**0.5     # formula of finding standard deviation is [  (sum of(lst[j] - mean)**/length of list)**0.5  ]\n",
    "print(\"Mean of the given list= \",mean_lst)\n",
    "print(\"standard deviation of the given list = \",stan_dev)"
   ]
  }
 ],
 "metadata": {
  "kernelspec": {
   "display_name": "Python 3",
   "language": "python",
   "name": "python3"
  },
  "language_info": {
   "codemirror_mode": {
    "name": "ipython",
    "version": 3
   },
   "file_extension": ".py",
   "mimetype": "text/x-python",
   "name": "python",
   "nbconvert_exporter": "python",
   "pygments_lexer": "ipython3",
   "version": "3.11.4"
  }
 },
 "nbformat": 4,
 "nbformat_minor": 2
}
