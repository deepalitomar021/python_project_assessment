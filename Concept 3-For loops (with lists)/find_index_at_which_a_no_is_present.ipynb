{
 "cells": [
  {
   "cell_type": "markdown",
   "metadata": {},
   "source": [
    "# 10. Given a list of numbers, find out the index of another given number"
   ]
  },
  {
   "cell_type": "code",
   "execution_count": 1,
   "metadata": {},
   "outputs": [
    {
     "name": "stdout",
     "output_type": "stream",
     "text": [
      "2 is present at the index\n",
      "lst [1]\n",
      "lst [2]\n"
     ]
    }
   ],
   "source": [
    "lst=[1,2,2,0,-1,-4,5,6,7,8,9]\n",
    "n=int(input(\"enter the no. whose index you want\"))\n",
    "if n in lst:                      # check that no is present in the list or not\n",
    "    c=0                             # assign a variable which can store the index value\n",
    "    print(n,\"is present at the index\")\n",
    "    for i in lst:\n",
    "        c+=1                         # increase index value with every element of list   \n",
    "        if i==n:               # if that value is equal to any element of the list.\n",
    "            print(\"lst\",[c-1])  # print that index value, here I have to use c-1 because indexing start from 0.\n",
    "else:\n",
    "    print(n,\"is not in the given list\")\n"
   ]
  }
 ],
 "metadata": {
  "kernelspec": {
   "display_name": "Python 3",
   "language": "python",
   "name": "python3"
  },
  "language_info": {
   "codemirror_mode": {
    "name": "ipython",
    "version": 3
   },
   "file_extension": ".py",
   "mimetype": "text/x-python",
   "name": "python",
   "nbconvert_exporter": "python",
   "pygments_lexer": "ipython3",
   "version": "3.11.4"
  }
 },
 "nbformat": 4,
 "nbformat_minor": 2
}
