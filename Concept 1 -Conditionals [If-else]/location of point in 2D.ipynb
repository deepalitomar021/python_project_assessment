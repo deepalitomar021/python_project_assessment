{
 "cells": [
  {
   "cell_type": "markdown",
   "metadata": {},
   "source": [
    "# 6.Given a point (x1, y1), find the quadrant in which this point lies."
   ]
  },
  {
   "cell_type": "code",
   "execution_count": 2,
   "metadata": {},
   "outputs": [
    {
     "name": "stdout",
     "output_type": "stream",
     "text": [
      "(3, -2) lies in 4th quadrant.\n"
     ]
    }
   ],
   "source": [
    "x1=int(input(\"enter x-coordinate of the point\"))\n",
    "y1=int(input(\"enter y-coordinate of the point\"))\n",
    "if x1==0: \n",
    "    if y1==0:                                        #if x and y both coordinates are zero then point is origin.\n",
    "        print((x1,y1),\"lies at origin\")\n",
    "    elif y1>0:                                       # if point is of the form (0,+ve) , point lies on +ve y-axis.\n",
    "        print((x1,y1),\"lies on +ve y-axis.\")\n",
    "    else:                                            # if point is of the form (0,-ve) , point lies on -ve y-axis.\n",
    "        print((x1,y1),\"lies on -ve y-axis.\")\n",
    "elif x1>0:\n",
    "    if y1==0:                                        # if point is of the form (+ve,0) , point lies on +ve y-axis.\n",
    "        print((x1,y1),\"lies on +ve x-axis.\")\n",
    "    elif y1>0:                                       # if point is of the form (+ve,+ve)  , point lies in 1st quadrant.\n",
    "        print((x1,y1),\"lies in 1st quadrant.\")\n",
    "    else:                                            # if point is of the form (+ve,-ve) , point lies in 4th quadrant.\n",
    "        print((x1,y1),\"lies in 4th quadrant.\")\n",
    "else:\n",
    "    if y1==0:                                        # if point is of the form (-ve,0) , point lies on -ve x-axis.\n",
    "        print((x1,y1),\"lies on -ve x-axis.\")\n",
    "    elif y1>0:                                       # if point is of the form (-ve,+ve), point lies in 2th quadrant.\n",
    "        print((x1,y1),\"lies in 2st quadrant.\")\n",
    "    else:                                            # if point is of the form (-ve,-ve)  , point lies in 3rd quadrant.\n",
    "        print((x1,y1),\"lies in 3rd quadrant.\")"
   ]
  }
 ],
 "metadata": {
  "kernelspec": {
   "display_name": "Python 3",
   "language": "python",
   "name": "python3"
  },
  "language_info": {
   "codemirror_mode": {
    "name": "ipython",
    "version": 3
   },
   "file_extension": ".py",
   "mimetype": "text/x-python",
   "name": "python",
   "nbconvert_exporter": "python",
   "pygments_lexer": "ipython3",
   "version": "3.11.4"
  }
 },
 "nbformat": 4,
 "nbformat_minor": 2
}
