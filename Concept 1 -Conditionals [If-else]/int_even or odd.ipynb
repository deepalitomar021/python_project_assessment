{
 "cells": [
  {
   "cell_type": "markdown",
   "metadata": {},
   "source": [
    "1. Given an integer, check if it is even or odd."
   ]
  },
  {
   "cell_type": "code",
   "execution_count": 8,
   "metadata": {},
   "outputs": [
    {
     "name": "stdout",
     "output_type": "stream",
     "text": [
      "0 is neither even nor odd.\n"
     ]
    }
   ],
   "source": [
    "num=int(input(\"enter the integer you want to check that it is even or odd.\")) \n",
    "if num>0:         \n",
    "    if num%2==0:             # if integer is greater than zero and fully divisible by 2, it is even integer.\n",
    "        print(num,\" is an even integer.\")\n",
    "    else:                 # if an integer is greater than zero and not divisible by 2, then it is odd integer.\n",
    "        print(num,\" is an odd integer.\")     \n",
    "else:                       # if integer is smaller than or equal to zero than it is neither even nor odd.\n",
    "    print(num,\"is neither even nor odd.\")"
   ]
  }
 ],
 "metadata": {
  "kernelspec": {
   "display_name": "Python 3",
   "language": "python",
   "name": "python3"
  },
  "language_info": {
   "codemirror_mode": {
    "name": "ipython",
    "version": 3
   },
   "file_extension": ".py",
   "mimetype": "text/x-python",
   "name": "python",
   "nbconvert_exporter": "python",
   "pygments_lexer": "ipython3",
   "version": "3.11.4"
  }
 },
 "nbformat": 4,
 "nbformat_minor": 2
}
