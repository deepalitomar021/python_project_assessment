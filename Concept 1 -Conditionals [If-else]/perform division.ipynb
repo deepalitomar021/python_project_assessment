{
 "cells": [
  {
   "cell_type": "markdown",
   "metadata": {},
   "source": [
    "Given two numbers, a and b, find the value of a/b (b may be zero)."
   ]
  },
  {
   "cell_type": "code",
   "execution_count": 1,
   "metadata": {},
   "outputs": [
    {
     "name": "stdout",
     "output_type": "stream",
     "text": [
      "a/b= -1.0\n"
     ]
    }
   ],
   "source": [
    "#here, we use float because number can be a decimal number.\n",
    "a=float(input('enter any number'))\n",
    "b=float(input('enter any number'))\n",
    "#now, we have to check that dividend is not zero. then we perform division.\n",
    "if b!=0:\n",
    "    print(\"a/b=\",a/b)\n",
    "#if dividend is zero then division is not defined.\n",
    "else:\n",
    "    print(\"division by 0 is not defined.\")\n",
    "\n",
    "#completed!"
   ]
  },
  {
   "cell_type": "code",
   "execution_count": null,
   "metadata": {},
   "outputs": [],
   "source": []
  }
 ],
 "metadata": {
  "kernelspec": {
   "display_name": "Python 3",
   "language": "python",
   "name": "python3"
  },
  "language_info": {
   "codemirror_mode": {
    "name": "ipython",
    "version": 3
   },
   "file_extension": ".py",
   "mimetype": "text/x-python",
   "name": "python",
   "nbconvert_exporter": "python",
   "pygments_lexer": "ipython3",
   "version": "3.11.4"
  }
 },
 "nbformat": 4,
 "nbformat_minor": 2
}
