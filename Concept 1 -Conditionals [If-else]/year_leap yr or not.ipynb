{
 "cells": [
  {
   "cell_type": "markdown",
   "metadata": {},
   "source": [
    "Given a year, check if it is a leap year or not. A leap year is divisible by 4, except for years that are divisible by 100. However, years that are divisible by 400 are also leap years."
   ]
  },
  {
   "cell_type": "code",
   "execution_count": 4,
   "metadata": {},
   "outputs": [
    {
     "name": "stdout",
     "output_type": "stream",
     "text": [
      "4 is a leap year.\n"
     ]
    }
   ],
   "source": [
    "year=int(input(\"enter the year for which you want want to check it is leap yr or not\"))\n",
    "if year>0:\n",
    "    if year%4==0 and year%100!=0:\n",
    "    #year which is divisible by 4 but not by 100 or divisible by 400 is a leap year.\n",
    "        print(year,\"is a leap year.\")\n",
    "    elif year%400==0:\n",
    "        print(year,\"is a leap year.\")\n",
    "    # if that year not satisfied the conditions of leap year come into else and we have to print that it is not a leap year.\n",
    "    else:\n",
    "        print(year,\"is not a leap year.\")\n",
    "else:\n",
    "    print(\"please enter a valid year\")\n",
    "#completed!"
   ]
  },
  {
   "cell_type": "code",
   "execution_count": null,
   "metadata": {},
   "outputs": [],
   "source": []
  }
 ],
 "metadata": {
  "kernelspec": {
   "display_name": "Python 3",
   "language": "python",
   "name": "python3"
  },
  "language_info": {
   "codemirror_mode": {
    "name": "ipython",
    "version": 3
   },
   "file_extension": ".py",
   "mimetype": "text/x-python",
   "name": "python",
   "nbconvert_exporter": "python",
   "pygments_lexer": "ipython3",
   "version": "3.11.4"
  }
 },
 "nbformat": 4,
 "nbformat_minor": 2
}
