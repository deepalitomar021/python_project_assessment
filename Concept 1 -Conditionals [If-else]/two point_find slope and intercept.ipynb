{
 "cells": [
  {
   "cell_type": "markdown",
   "metadata": {},
   "source": [
    "Given two points (x1, y1) and (x2, y2), find the slope and intercept of the line joining these two points (the line may be perfectly horizontal or vertical)."
   ]
  },
  {
   "cell_type": "code",
   "execution_count": 3,
   "metadata": {},
   "outputs": [
    {
     "name": "stdout",
     "output_type": "stream",
     "text": [
      "slope= 0.2\n",
      "y intercept of the line= 7.6\n"
     ]
    }
   ],
   "source": [
    "#firstly, we have to take coordinates of two point in 2D as input.\n",
    "x1=float(input(\"enter the x coor. of first point\"))\n",
    "y1=float(input(\"enter the y coor. of first point\"))\n",
    "x2=float(input(\"enter the x coor. of second point\"))\n",
    "y2=float(input(\"enter the y coor . of second point\"))\n",
    "b=y2-y1                                                   #difference between y-coordinates\n",
    "a=x2-x1                                                    #difference between x-coordinates\n",
    "if a==0:                                                  #if difference between x-coor. of the given points=0\n",
    "    if b==0:\n",
    "        print(\"slope doesn't exist because both points are same, so no y-intercept.\")\n",
    "    else:\n",
    "        print(\"slope is not defined i.e. line is vertical.\")                         #because divisor is 0.\n",
    "        print(\"line do not cut the y axis ,so there is no y-intercept\") # y intercept is how many units a line cut on y- axis\n",
    "\n",
    "else:\n",
    "    c=b/a                            #slope of any line=difference b/w y-coor./difference b/w x-coor\n",
    "    y=y1-(c*x1)   #finding y-intercept by applying eq. of line [(y-y1)=c(x-x1)], we have to put x=0 to find y-intercept.\n",
    "    print(\"slope=\",c)\n",
    "    print(\"y intercept of the line=\",y)\n"
   ]
  }
 ],
 "metadata": {
  "kernelspec": {
   "display_name": "Python 3",
   "language": "python",
   "name": "python3"
  },
  "language_info": {
   "codemirror_mode": {
    "name": "ipython",
    "version": 3
   },
   "file_extension": ".py",
   "mimetype": "text/x-python",
   "name": "python",
   "nbconvert_exporter": "python",
   "pygments_lexer": "ipython3",
   "version": "3.11.4"
  }
 },
 "nbformat": 4,
 "nbformat_minor": 2
}
