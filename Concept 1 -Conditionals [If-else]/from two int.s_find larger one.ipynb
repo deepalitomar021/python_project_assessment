{
 "cells": [
  {
   "cell_type": "markdown",
   "metadata": {},
   "source": [
    "Given two integers, find the larger one."
   ]
  },
  {
   "cell_type": "code",
   "execution_count": 1,
   "metadata": {},
   "outputs": [
    {
     "name": "stdout",
     "output_type": "stream",
     "text": [
      "3 is larger than 2\n"
     ]
    }
   ],
   "source": [
    "num1=int(input(\"enter the first integer\"))\n",
    "num2=int(input(\"enter the second integer\"))\n",
    "if num1==num2:                         # check that given integers are equal or not.\n",
    "    print(num1,\"and\",num2,\"are equal\")\n",
    "elif num1>num2:                        # check first integer is larger or not.     \n",
    "    print(num1,\"is larger than\",num2)\n",
    "else:                                  # if upper condition false,it is true that second one is larger.\n",
    "    print(num2,\"is larger than\",num1)"
   ]
  }
 ],
 "metadata": {
  "kernelspec": {
   "display_name": "Python 3",
   "language": "python",
   "name": "python3"
  },
  "language_info": {
   "codemirror_mode": {
    "name": "ipython",
    "version": 3
   },
   "file_extension": ".py",
   "mimetype": "text/x-python",
   "name": "python",
   "nbconvert_exporter": "python",
   "pygments_lexer": "ipython3",
   "version": "3.11.4"
  }
 },
 "nbformat": 4,
 "nbformat_minor": 2
}
