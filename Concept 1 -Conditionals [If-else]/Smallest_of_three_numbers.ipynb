{
 "cells": [
  {
   "cell_type": "markdown",
   "metadata": {},
   "source": [
    "# 10. Given three integers, find smallest one."
   ]
  },
  {
   "cell_type": "code",
   "execution_count": 5,
   "metadata": {},
   "outputs": [],
   "source": [
    "def find_smallest_num(num1,num2,num3):\n",
    "# use comparison operator\n",
    "    if num1<num2:\n",
    "        if num1<num3:\n",
    "            ans=num1,\" is smallest number\"\n",
    "        elif num1==num3:\n",
    "            ans=\" both \",num1,\"and\", num3,\" are smallest\"\n",
    "        else:\n",
    "            ans=num3,\"is smallest number \"\n",
    "    elif num1==num2:\n",
    "        if num1<num3:\n",
    "            ans=\" both \",num1,\"amd\", num2, \"are smallest\"\n",
    "        elif num1==num3:\n",
    "            ans=\" all numbers are equal\"\n",
    "        else:\n",
    "            ans=num3,\" is smallest\"\n",
    "    elif num2==num3:\n",
    "        ans=\" both\", num2,\"and\",num3, \"are smallest\"\n",
    "    elif num2<num3:\n",
    "        ans=num2,\" is smallest\"\n",
    "    else:\n",
    "        ans=num3,\" is smallest\"\n",
    "\n",
    "    return ans"
   ]
  },
  {
   "cell_type": "code",
   "execution_count": 6,
   "metadata": {},
   "outputs": [
    {
     "data": {
      "text/plain": [
       "(0, ' is smallest')"
      ]
     },
     "execution_count": 6,
     "metadata": {},
     "output_type": "execute_result"
    }
   ],
   "source": [
    "find_smallest_num(2,0,5)"
   ]
  },
  {
   "cell_type": "code",
   "execution_count": 7,
   "metadata": {},
   "outputs": [
    {
     "data": {
      "text/plain": [
       "(-1, ' is smallest number')"
      ]
     },
     "execution_count": 7,
     "metadata": {},
     "output_type": "execute_result"
    }
   ],
   "source": [
    "find_smallest_num(-1,3,40)"
   ]
  },
  {
   "cell_type": "code",
   "execution_count": 8,
   "metadata": {},
   "outputs": [
    {
     "data": {
      "text/plain": [
       "(40, 'is smallest number ')"
      ]
     },
     "execution_count": 8,
     "metadata": {},
     "output_type": "execute_result"
    }
   ],
   "source": [
    "find_smallest_num(45,89,40)"
   ]
  }
 ],
 "metadata": {
  "kernelspec": {
   "display_name": "Python 3",
   "language": "python",
   "name": "python3"
  },
  "language_info": {
   "codemirror_mode": {
    "name": "ipython",
    "version": 3
   },
   "file_extension": ".py",
   "mimetype": "text/x-python",
   "name": "python",
   "nbconvert_exporter": "python",
   "pygments_lexer": "ipython3",
   "version": "3.11.4"
  }
 },
 "nbformat": 4,
 "nbformat_minor": 2
}
