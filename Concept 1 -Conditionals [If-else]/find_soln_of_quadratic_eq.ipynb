{
 "cells": [
  {
   "cell_type": "markdown",
   "metadata": {},
   "source": [
    "8. Given a quadratic equation with coefficients a,b and c, find the two solutions (may be real or complex). You should not take the square root of a negative number in your code."
   ]
  },
  {
   "cell_type": "code",
   "execution_count": 5,
   "metadata": {},
   "outputs": [],
   "source": [
    "def find_solutions(a,b,c):\n",
    "    d=((b**2)-4*a*c)           #here we find the discriminant of given quad. eq. by using  formula\n",
    "    if d==0:                       # if discriminant is equal to zero then roots are real and equal\n",
    "        ans=-b/2*a,\"and\",-b/2*a  \n",
    "    elif d>0:                         #if discriminant is greater than or equal to zero then roots are real\n",
    "        x1=(-b+(d)**0.5)/(2*a)\n",
    "        x2=(-b-(d)**0.5)/(2*a)\n",
    "        ans=x1,\"and\",x2\n",
    "    else:                        #if discriminant is smaller than 0 then roots are imaginary.\n",
    "        x=(-d)**0.5/2*a\n",
    "        ans=\"real part is \",(-b/2*a), \"img parts are \",x,\"and\",-x\n",
    "    return ans"
   ]
  },
  {
   "cell_type": "code",
   "execution_count": 6,
   "metadata": {},
   "outputs": [
    {
     "data": {
      "text/plain": [
       "(3.0, 'and', 0.5)"
      ]
     },
     "execution_count": 6,
     "metadata": {},
     "output_type": "execute_result"
    }
   ],
   "source": [
    "find_solutions(2,-7,3)"
   ]
  },
  {
   "cell_type": "code",
   "execution_count": 7,
   "metadata": {},
   "outputs": [
    {
     "data": {
      "text/plain": [
       "(1.1861406616345072, 'and', -1.6861406616345072)"
      ]
     },
     "execution_count": 7,
     "metadata": {},
     "output_type": "execute_result"
    }
   ],
   "source": [
    "find_solutions(2,1,-4)"
   ]
  },
  {
   "cell_type": "code",
   "execution_count": 8,
   "metadata": {},
   "outputs": [
    {
     "data": {
      "text/plain": [
       "('real part is ', 16.0, 'img parts are ', 8.0, 'and', -8.0)"
      ]
     },
     "execution_count": 8,
     "metadata": {},
     "output_type": "execute_result"
    }
   ],
   "source": [
    "find_solutions(4,-8,5)"
   ]
  }
 ],
 "metadata": {
  "kernelspec": {
   "display_name": "Python 3",
   "language": "python",
   "name": "python3"
  },
  "language_info": {
   "codemirror_mode": {
    "name": "ipython",
    "version": 3
   },
   "file_extension": ".py",
   "mimetype": "text/x-python",
   "name": "python",
   "nbconvert_exporter": "python",
   "pygments_lexer": "ipython3",
   "version": "3.11.4"
  }
 },
 "nbformat": 4,
 "nbformat_minor": 2
}
