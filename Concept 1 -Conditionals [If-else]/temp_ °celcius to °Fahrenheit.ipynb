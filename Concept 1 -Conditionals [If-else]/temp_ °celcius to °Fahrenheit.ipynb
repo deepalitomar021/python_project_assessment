{
 "cells": [
  {
   "cell_type": "markdown",
   "metadata": {},
   "source": [
    "Given a temperature in Celsius, convert it to Fahrenheit using the formula F = (C * 1.8) + 32. If the temperature is above 90°F, print “It’s hot outside!” otherwise, print “The temperature is pleasant”."
   ]
  },
  {
   "cell_type": "code",
   "execution_count": 1,
   "metadata": {},
   "outputs": [
    {
     "name": "stdout",
     "output_type": "stream",
     "text": [
      "the temperature is pleasant.\n"
     ]
    }
   ],
   "source": [
    "temp_celc=float(input(\"enter the temperature in celcius\"))\n",
    "temp_fahr=(temp_celc*1.8) + 32                    #we have converted temerature from celcius to fahrenheit using this formula.\n",
    "if temp_fahr>90:                                  #now, we have to check the temperature is above 90°F or not\n",
    "    print(\"it's hot outside!\")\n",
    "else:                                             #if upper condition will not satisfied,we have to print that “The temperature is pleasant”.\n",
    "    print(\"the temperature is pleasant.\")"
   ]
  }
 ],
 "metadata": {
  "kernelspec": {
   "display_name": "Python 3",
   "language": "python",
   "name": "python3"
  },
  "language_info": {
   "codemirror_mode": {
    "name": "ipython",
    "version": 3
   },
   "file_extension": ".py",
   "mimetype": "text/x-python",
   "name": "python",
   "nbconvert_exporter": "python",
   "pygments_lexer": "ipython3",
   "version": "3.11.4"
  }
 },
 "nbformat": 4,
 "nbformat_minor": 2
}
