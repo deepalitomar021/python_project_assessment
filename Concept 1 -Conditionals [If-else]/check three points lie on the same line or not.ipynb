{
 "cells": [
  {
   "cell_type": "markdown",
   "metadata": {},
   "source": [
    "# 9. Given three points, find out whether they lie on the same straight line or not."
   ]
  },
  {
   "cell_type": "code",
   "execution_count": 4,
   "metadata": {},
   "outputs": [],
   "source": [
    "def check_collinearity(x1,x2,x3,y1,y2,y3):\n",
    "    a=x1*(y2-y3)\n",
    "    b=x2*(y3-y1)\n",
    "    c=x3*(y1-y2)\n",
    "    d=1/2*((a+b+c)**0.5)# it is the formula of area enclosed by triangle whose cornor coor. are given.\n",
    "    #now, we use the condition of collinearity that if the area enclosed by three points is 0\n",
    "    #  then these points lie in same straight line\n",
    "    if d==0:\n",
    "        ans=\" given points are collinear or lie in same line\"\n",
    "    else:\n",
    "        ans=\"given points are not lie in the same line\"\n",
    "    return ans"
   ]
  },
  {
   "cell_type": "code",
   "execution_count": 5,
   "metadata": {},
   "outputs": [
    {
     "data": {
      "text/plain": [
       "' given points are collinear or lie in same line'"
      ]
     },
     "execution_count": 5,
     "metadata": {},
     "output_type": "execute_result"
    }
   ],
   "source": [
    "check_collinearity(1,2,3,1,2,3)"
   ]
  },
  {
   "cell_type": "code",
   "execution_count": 6,
   "metadata": {},
   "outputs": [
    {
     "data": {
      "text/plain": [
       "'given points are not lie in the same line'"
      ]
     },
     "execution_count": 6,
     "metadata": {},
     "output_type": "execute_result"
    }
   ],
   "source": [
    "check_collinearity(1,7,4,1,3,4)"
   ]
  }
 ],
 "metadata": {
  "kernelspec": {
   "display_name": "Python 3",
   "language": "python",
   "name": "python3"
  },
  "language_info": {
   "codemirror_mode": {
    "name": "ipython",
    "version": 3
   },
   "file_extension": ".py",
   "mimetype": "text/x-python",
   "name": "python",
   "nbconvert_exporter": "python",
   "pygments_lexer": "ipython3",
   "version": "3.11.4"
  }
 },
 "nbformat": 4,
 "nbformat_minor": 2
}
