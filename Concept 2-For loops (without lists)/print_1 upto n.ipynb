{
 "cells": [
  {
   "cell_type": "markdown",
   "metadata": {},
   "source": [
    "1. Given a positive integer, print all integers from 1 up to this number."
   ]
  },
  {
   "cell_type": "code",
   "execution_count": 1,
   "metadata": {},
   "outputs": [
    {
     "name": "stdout",
     "output_type": "stream",
     "text": [
      "1\n",
      "2\n",
      "3\n",
      "4\n"
     ]
    }
   ],
   "source": [
    "num=int(input(\"enter the number till you want to print the positive integers\"))\n",
    "# now we have to start a for loop from 1 to upto num.\n",
    "# here we start loop from 1 and end at num+1(we use num+1 because range func.take the values till end-1)\n",
    "if num>0:\n",
    "    for i in range(1,num+1):\n",
    "        print(i)              #now we have to print the positive integers one by one.\n",
    "else:\n",
    "    print(\"Please enter a positive integer\")"
   ]
  }
 ],
 "metadata": {
  "kernelspec": {
   "display_name": "Python 3",
   "language": "python",
   "name": "python3"
  },
  "language_info": {
   "codemirror_mode": {
    "name": "ipython",
    "version": 3
   },
   "file_extension": ".py",
   "mimetype": "text/x-python",
   "name": "python",
   "nbconvert_exporter": "python",
   "pygments_lexer": "ipython3",
   "version": "3.11.4"
  }
 },
 "nbformat": 4,
 "nbformat_minor": 2
}
