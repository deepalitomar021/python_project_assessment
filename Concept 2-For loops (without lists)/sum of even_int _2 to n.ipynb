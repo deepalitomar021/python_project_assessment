{
 "cells": [
  {
   "cell_type": "markdown",
   "metadata": {},
   "source": [
    "6. Given a positive integer, find out the sum of all even numbers from 2 up to this number."
   ]
  },
  {
   "cell_type": "code",
   "execution_count": 2,
   "metadata": {},
   "outputs": [
    {
     "name": "stdout",
     "output_type": "stream",
     "text": [
      "sum of all even integers from 2 to 6 = 12\n"
     ]
    }
   ],
   "source": [
    "num=int(input(\"enter a positive integer\"))\n",
    "sum_even=0                                     # assign a variable which can store the sum.\n",
    "if num>0:\n",
    "    if num%2==0:                                   # chech given int. is even or not \n",
    "        for i in range(2,num+1,2):                 # in range first no. signify starting, middle signify end-1, last signify the gap of how many no.s\n",
    "            sum_even+=i\n",
    "    else:\n",
    "        for i in range(2,num,2):\n",
    "            sum_even+=i\n",
    "    print(\"sum of all even integers from 2 to\",num,\"=\",sum_even)\n",
    "else:\n",
    "    print(\"please enter a positive integer.\")\n"
   ]
  }
 ],
 "metadata": {
  "kernelspec": {
   "display_name": "Python 3",
   "language": "python",
   "name": "python3"
  },
  "language_info": {
   "codemirror_mode": {
    "name": "ipython",
    "version": 3
   },
   "file_extension": ".py",
   "mimetype": "text/x-python",
   "name": "python",
   "nbconvert_exporter": "python",
   "pygments_lexer": "ipython3",
   "version": "3.11.4"
  }
 },
 "nbformat": 4,
 "nbformat_minor": 2
}
