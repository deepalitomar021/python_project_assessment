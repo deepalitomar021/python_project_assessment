{
 "cells": [
  {
   "cell_type": "markdown",
   "metadata": {},
   "source": [
    "4. Given a positive integer, find out if it’s prime or not."
   ]
  },
  {
   "cell_type": "code",
   "execution_count": 5,
   "metadata": {},
   "outputs": [
    {
     "name": "stdout",
     "output_type": "stream",
     "text": [
      "6 is not a prime number.\n"
     ]
    }
   ],
   "source": [
    "num=int(input(\"enter a positive integer for which you want to check if it is prime or not.\"))\n",
    "a=0\n",
    "if num>1:                              # int <=1 is not a prime, so check given int. is >1 or not.\n",
    "    p=int(num**0.5)                    # find integer value of square root of given num.\n",
    "    for i in range(2,p+1):             \n",
    "        if num%i==0:                   # if an int. is fully divisible by an int. from 2 to the int. of it's root, then it is not a prime no.\n",
    "            a+=1\n",
    "    if a==0:\n",
    "        print(num,\"is a prime number.\")\n",
    "    else:\n",
    "        print(num,\"is not a prime number.\")\n",
    "else:\n",
    "    print(\"Please enter an integer greater than 1\")        "
   ]
  }
 ],
 "metadata": {
  "kernelspec": {
   "display_name": "Python 3",
   "language": "python",
   "name": "python3"
  },
  "language_info": {
   "codemirror_mode": {
    "name": "ipython",
    "version": 3
   },
   "file_extension": ".py",
   "mimetype": "text/x-python",
   "name": "python",
   "nbconvert_exporter": "python",
   "pygments_lexer": "ipython3",
   "version": "3.11.4"
  }
 },
 "nbformat": 4,
 "nbformat_minor": 2
}
