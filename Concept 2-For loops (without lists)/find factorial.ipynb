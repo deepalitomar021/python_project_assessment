{
 "cells": [
  {
   "cell_type": "markdown",
   "metadata": {},
   "source": [
    "3. Given a positive integer, find out its factorial."
   ]
  },
  {
   "cell_type": "code",
   "execution_count": 4,
   "metadata": {},
   "outputs": [
    {
     "name": "stdout",
     "output_type": "stream",
     "text": [
      "factorial of 6 = 720\n"
     ]
    }
   ],
   "source": [
    "num=int(input(\"enter the positive integer whose factorial you want\"))\n",
    "fact=1                      # assign a variable which can store factorial value.\n",
    "if num==0 or num==1:         \n",
    "    print(\"Factorial of\",num,\"= 1\")     # factorial of 0 and 1 is 1.\n",
    "elif num >1:\n",
    "    for i in range(2,num+1):\n",
    "        fact*=i                         # using for loop, multiply one by one in the previous multiplication (fact)\n",
    "    print(\"factorial of\",num,\"=\",fact)\n",
    "else:\n",
    "    print(\"Please enter a positive integer.\")"
   ]
  }
 ],
 "metadata": {
  "kernelspec": {
   "display_name": "Python 3",
   "language": "python",
   "name": "python3"
  },
  "language_info": {
   "codemirror_mode": {
    "name": "ipython",
    "version": 3
   },
   "file_extension": ".py",
   "mimetype": "text/x-python",
   "name": "python",
   "nbconvert_exporter": "python",
   "pygments_lexer": "ipython3",
   "version": "3.11.4"
  }
 },
 "nbformat": 4,
 "nbformat_minor": 2
}
