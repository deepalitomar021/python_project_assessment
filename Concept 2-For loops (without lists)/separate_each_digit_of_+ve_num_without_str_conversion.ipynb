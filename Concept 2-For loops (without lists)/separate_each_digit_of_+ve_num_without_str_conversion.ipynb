{
 "cells": [
  {
   "cell_type": "markdown",
   "metadata": {},
   "source": [
    "9. Given a positive intege, print each of its digits separately without converting the number into a string."
   ]
  },
  {
   "cell_type": "code",
   "execution_count": 1,
   "metadata": {},
   "outputs": [
    {
     "name": "stdout",
     "output_type": "stream",
     "text": [
      "Given number is  152230998\n",
      "1\n",
      "5\n",
      "2\n",
      "2\n",
      "3\n",
      "0\n",
      "9\n",
      "9\n",
      "8\n"
     ]
    }
   ],
   "source": [
    "num=int(input('enter any positive number'))\n",
    "print(\"Given number is \",num)\n",
    "if num>0:\n",
    "    import math\n",
    "    r=int(math.log10(num))+1          # using this method we can find the number of digits in a number.\n",
    "    for i in range(r):                      # range -> no. of digits in the num\n",
    " #  we want to find the digit from left\n",
    " # if we perform floor division on that number by 10^(no. of digits in that num.-1),we get the first left digit  \n",
    "        a=num//(10**(r-(i+1))) \n",
    " # update that num by the remainder after dividing by 10^(no. of digits in that num.-1) \n",
    " # we get the remaining part of that number. \n",
    "        num=num%(10**(r-(i+1)))\n",
    " # proceed decrement in the power of 10 by 1 every time till 10^0.\n",
    "        print(a)\n",
    "else:\n",
    "    print(\"please enter a positive integer\")"
   ]
  }
 ],
 "metadata": {
  "kernelspec": {
   "display_name": "Python 3",
   "language": "python",
   "name": "python3"
  },
  "language_info": {
   "codemirror_mode": {
    "name": "ipython",
    "version": 3
   },
   "file_extension": ".py",
   "mimetype": "text/x-python",
   "name": "python",
   "nbconvert_exporter": "python",
   "pygments_lexer": "ipython3",
   "version": "3.11.4"
  }
 },
 "nbformat": 4,
 "nbformat_minor": 2
}
