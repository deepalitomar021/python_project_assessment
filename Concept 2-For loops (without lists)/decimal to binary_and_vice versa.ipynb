{
 "cells": [
  {
   "cell_type": "markdown",
   "metadata": {},
   "source": [
    "# 10. Given a positive integer, convert it into binary, and vice-versa"
   ]
  },
  {
   "cell_type": "code",
   "execution_count": 4,
   "metadata": {},
   "outputs": [
    {
     "name": "stdout",
     "output_type": "stream",
     "text": [
      "Decimal value= 24\n",
      "Binary value\n",
      "11000"
     ]
    }
   ],
   "source": [
    "# decimal to binary\n",
    "\n",
    "num=int(input(\"enter any positive number\"))\n",
    "print(\"Decimal value=\",num)           \n",
    "lst=[]               \n",
    "while num>0:            \n",
    "    n1=num%2                  # finding remainder every time and store that.\n",
    "    num=num//2                # update every time num with it's quotient.\n",
    "    lst.append(n1)\n",
    "print(\"Binary value\")         # we have stored all digits of binary in lst but in reverse order \n",
    "for i in range(len(lst)):      # print them from the list in reverse order to get correct binary representation.\n",
    "    print(lst[-(i+1)],end='')"
   ]
  },
  {
   "cell_type": "code",
   "execution_count": 10,
   "metadata": {},
   "outputs": [],
   "source": [
    "# binary to decimal\n",
    "\n",
    "def find_decimal_value(num):\n",
    "    import math                        # to use some maths operations, we have to import math library.\n",
    "    r=int(math.log10(num))+1           # by this method we can find the no. of digits in any number.\n",
    "    decimal_value=0                    # to store decimal value\n",
    "    for i in range(r):             \n",
    "        n1=num%10                      # finding remainder\n",
    "        num=num//10                    # update the number with quotient\n",
    "        n2=n1*(2**i)                   # multipling remainder with the 2 to the power of 0,then increasing 1 every time\n",
    "        decimal_value+=n2              # adding every time the n2 value to decimal value.\n",
    "    return decimal_value"
   ]
  },
  {
   "cell_type": "code",
   "execution_count": 11,
   "metadata": {},
   "outputs": [
    {
     "data": {
      "text/plain": [
       "24"
      ]
     },
     "execution_count": 11,
     "metadata": {},
     "output_type": "execute_result"
    }
   ],
   "source": [
    "find_decimal_value(11000)"
   ]
  },
  {
   "cell_type": "code",
   "execution_count": 7,
   "metadata": {},
   "outputs": [
    {
     "data": {
      "text/plain": [
       "10"
      ]
     },
     "execution_count": 7,
     "metadata": {},
     "output_type": "execute_result"
    }
   ],
   "source": [
    "find_decimal_value(1010)"
   ]
  },
  {
   "cell_type": "code",
   "execution_count": 8,
   "metadata": {},
   "outputs": [
    {
     "data": {
      "text/plain": [
       "5"
      ]
     },
     "execution_count": 8,
     "metadata": {},
     "output_type": "execute_result"
    }
   ],
   "source": [
    "find_decimal_value(101)"
   ]
  }
 ],
 "metadata": {
  "kernelspec": {
   "display_name": "Python 3",
   "language": "python",
   "name": "python3"
  },
  "language_info": {
   "codemirror_mode": {
    "name": "ipython",
    "version": 3
   },
   "file_extension": ".py",
   "mimetype": "text/x-python",
   "name": "python",
   "nbconvert_exporter": "python",
   "pygments_lexer": "ipython3",
   "version": "3.11.4"
  }
 },
 "nbformat": 4,
 "nbformat_minor": 2
}
