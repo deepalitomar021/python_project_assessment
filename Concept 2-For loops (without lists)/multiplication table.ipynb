{
 "cells": [
  {
   "cell_type": "markdown",
   "metadata": {},
   "source": [
    "# 7.   Given a positive integer, find the multiplication of that integer upto 10."
   ]
  },
  {
   "cell_type": "code",
   "execution_count": 2,
   "metadata": {},
   "outputs": [
    {
     "name": "stdout",
     "output_type": "stream",
     "text": [
      "3 * 1 = 3\n",
      "3 * 2 = 6\n",
      "3 * 3 = 9\n",
      "3 * 4 = 12\n",
      "3 * 5 = 15\n",
      "3 * 6 = 18\n",
      "3 * 7 = 21\n",
      "3 * 8 = 24\n",
      "3 * 9 = 27\n",
      "3 * 10 = 30\n"
     ]
    }
   ],
   "source": [
    "num=int(input(\"enter the positive integer whose multiplication table you want\"))\n",
    "if num>0:\n",
    "    for i in range(1,11):             # we have to find the multiplication upto 10, so we take end of range upto 11.\n",
    "        product=num*i\n",
    "        print(num,\"*\",i,\"=\",product)           # here print statement is inside the for loop because we have to print the multiplication every time.\n",
    "else:\n",
    "    print(\"please enter a positive integer\")\n"
   ]
  }
 ],
 "metadata": {
  "kernelspec": {
   "display_name": "Python 3",
   "language": "python",
   "name": "python3"
  },
  "language_info": {
   "codemirror_mode": {
    "name": "ipython",
    "version": 3
   },
   "file_extension": ".py",
   "mimetype": "text/x-python",
   "name": "python",
   "nbconvert_exporter": "python",
   "pygments_lexer": "ipython3",
   "version": "3.11.4"
  }
 },
 "nbformat": 4,
 "nbformat_minor": 2
}
