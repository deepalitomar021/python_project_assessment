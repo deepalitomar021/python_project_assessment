{
 "cells": [
  {
   "cell_type": "markdown",
   "metadata": {},
   "source": [
    "5. Given a positive integer, find out the sum of all odd numbers from 1 up to this number."
   ]
  },
  {
   "cell_type": "code",
   "execution_count": 4,
   "metadata": {},
   "outputs": [
    {
     "name": "stdout",
     "output_type": "stream",
     "text": [
      "Please enter a positive integer.\n"
     ]
    }
   ],
   "source": [
    "num=int(input(\"enter the number\"))\n",
    "sum_odd=0                                        # assign variable which can store the sum.\n",
    "if num>0:                                        # check given int. is positive or not.\n",
    "    if num%2==0:                                 # check given int. is even or not.\n",
    "        for i in range(1,num,2):                 # in range first no. signify starting, middle signify end-1, last signify the gap of how many no.s\n",
    "            sum_odd+=i                          \n",
    "    else:                                        \n",
    "        for i in range(1,num+1,2):\n",
    "            sum_odd+=i\n",
    "    print(\"sum of all odd integers from 1 to\",num,\"=\",sum_odd)\n",
    "else:\n",
    "    print(\"Please enter a positive integer.\")\n"
   ]
  }
 ],
 "metadata": {
  "kernelspec": {
   "display_name": "Python 3",
   "language": "python",
   "name": "python3"
  },
  "language_info": {
   "codemirror_mode": {
    "name": "ipython",
    "version": 3
   },
   "file_extension": ".py",
   "mimetype": "text/x-python",
   "name": "python",
   "nbconvert_exporter": "python",
   "pygments_lexer": "ipython3",
   "version": "3.11.4"
  }
 },
 "nbformat": 4,
 "nbformat_minor": 2
}
