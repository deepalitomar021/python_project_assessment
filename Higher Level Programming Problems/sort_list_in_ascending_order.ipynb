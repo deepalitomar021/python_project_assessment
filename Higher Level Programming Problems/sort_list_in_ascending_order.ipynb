{
 "cells": [
  {
   "cell_type": "markdown",
   "metadata": {},
   "source": [
    "# 1. Given a list of numbers, sort it in ascending order."
   ]
  },
  {
   "cell_type": "code",
   "execution_count": 4,
   "metadata": {},
   "outputs": [
    {
     "name": "stdout",
     "output_type": "stream",
     "text": [
      "[1, 3, 4, 5, 6, 8]\n"
     ]
    }
   ],
   "source": [
    "lst=[6,3,5,1,8,4]\n",
    "lst_new=[]                  # create an empty list which can store the ordered list.\n",
    "for j in range(len(lst)):   # range is the length of list because we have to find the smallest number len(lst) times      \n",
    "    a=lst[0]                # find first element of the list \n",
    "    for i in lst:           \n",
    "        if i<a:             # compare every element with first element\n",
    "            a=i             # if any element is smaller than first element, update that element \n",
    "    lst_new.append(a)       # we have find smallest no., appent it in empty list\n",
    "    lst.remove(a)            # and remove from the initial list\n",
    "print(lst_new)\n",
    "# for loop run len(lst) times and every time find the smallest from remaining elements.\n"
   ]
  }
 ],
 "metadata": {
  "kernelspec": {
   "display_name": "Python 3",
   "language": "python",
   "name": "python3"
  },
  "language_info": {
   "codemirror_mode": {
    "name": "ipython",
    "version": 3
   },
   "file_extension": ".py",
   "mimetype": "text/x-python",
   "name": "python",
   "nbconvert_exporter": "python",
   "pygments_lexer": "ipython3",
   "version": "3.11.4"
  }
 },
 "nbformat": 4,
 "nbformat_minor": 2
}
