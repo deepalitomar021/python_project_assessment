{
 "cells": [
  {
   "cell_type": "markdown",
   "metadata": {},
   "source": [
    "2. Given a list of numbers, find the median and mode"
   ]
  },
  {
   "cell_type": "code",
   "execution_count": 2,
   "metadata": {},
   "outputs": [
    {
     "name": "stdout",
     "output_type": "stream",
     "text": [
      "median= 5.0\n",
      "mode= [3, 8]\n"
     ]
    }
   ],
   "source": [
    "list_num=[3,8,8,8,8,9,1,3,3,5,6,7,1,2,3,4,5,6]  \n",
    "lst_n=[]                 \n",
    "for j in list_num:\n",
    "    if j not in lst_n:\n",
    "        lst_n.append(j)   # lst_n contain the unique numbers from the given list\n",
    "\n",
    "dct={}\n",
    "for k in lst_n:         # iterate over the lst_n,\n",
    "    c=0\n",
    "    for l in list_num: \n",
    "        if k==l:\n",
    "            c+=1   # count how many times every element of list_n occurs in the given list\n",
    "    dct[k]=c # in the dict. key is the number and corresponding value is the no of times that no. occur in given list\n",
    "    \n",
    "lst_sorted=[]          \n",
    "for i in range(len(list_num)):   # creating a list sorted in ascending order.\n",
    "    n=list_num[0] \n",
    "    for i in list_num:\n",
    "        if i<n:\n",
    "            n=i\n",
    "    lst_sorted.append(n)\n",
    "    list_num.remove(n)  \n",
    "if len(lst_sorted)%2==0:  # if length of sorted list is an even number then average of two middle numbers is median\n",
    "    med=(lst_sorted[(len(lst_sorted)//2)-1] + lst_sorted[len(lst_sorted)//2])/2\n",
    "else:               # if len is odd number, middle number is the median\n",
    "    med=lst_sorted[(len(lst_sorted)-1)//2]  \n",
    "print(\"median=\", med)\n",
    "\n",
    "len_lst_n=len(lst_n)        \n",
    "if len(list_num)==len_lst_n:        # if all elements of given list are unique, then mode is not defined\n",
    "    print(\"mode is not defined\")\n",
    "\n",
    "else:\n",
    "    mode=[]\n",
    "    max=1              \n",
    "    for value in dct.values(): # finding max of values of dict.\n",
    "        if value>max:         \n",
    "            max=value\n",
    "    for key,value in dct.items():    #iterate over dictionary\n",
    "        if value==max:               # which value or values occur max times\n",
    "            mode.append(key)         # append corresponding key or keys in mode\n",
    "    print(\"mode=\",mode)\n"
   ]
  },
  {
   "cell_type": "code",
   "execution_count": null,
   "metadata": {},
   "outputs": [],
   "source": []
  }
 ],
 "metadata": {
  "kernelspec": {
   "display_name": "Python 3",
   "language": "python",
   "name": "python3"
  },
  "language_info": {
   "codemirror_mode": {
    "name": "ipython",
    "version": 3
   },
   "file_extension": ".py",
   "mimetype": "text/x-python",
   "name": "python",
   "nbconvert_exporter": "python",
   "pygments_lexer": "ipython3",
   "version": "3.11.4"
  }
 },
 "nbformat": 4,
 "nbformat_minor": 2
}
