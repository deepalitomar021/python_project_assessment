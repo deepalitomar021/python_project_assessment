{
 "cells": [
  {
   "cell_type": "code",
   "execution_count": 5,
   "metadata": {},
   "outputs": [
    {
     "name": "stdout",
     "output_type": "stream",
     "text": [
      "Encode using morse codes:-\n",
      ".. .__ _ _....._ _.._._.... __ _ __ _._._.._._._\n",
      "\n",
      "Decode using morse codes :-\n",
      "I am Deepali tomar."
     ]
    }
   ],
   "source": [
    "encode_it='I am Deepali tomar.'\n",
    "dct1={'a':'._', 'b':'_...', 'c':'_._.', 'd':'_..', 'e':'.', 'f':'.._.', 'g':'_ _.', 'h':'....', 'i':'..', 'j':'._ _ _', \n",
    "    'k':'_._', 'l':'._..', 'm':'_ _', 'n':'_.', 'o':'_ _ _', 'p':'._ _.', 'q':'_ _._', 'r':'._.', 's':'...', 't':'_', \n",
    "    'u':'.._', 'v':'..._', 'w':'._ _', 'x':'_.._', 'y':'_._ _', 'z':'_ _..',\n",
    "     '1':'._ _ _ _', '2':'.._ _ _', '3':'..._ _', '4':'...._', '5':'.....', '6':'_....', '7':'_ _...', '8':'_ _ _..', \n",
    "    '9':'_ _ _ _.', '0':'_ _ _ _ _', '.':'._._._', ',':'_ _.._ _', '?':'.._ _..', '!':'_._._ _', \"'\":'._ _ _ _.', \n",
    "     '\"':'._.._.', '(':'_._ _.', ')':'_._ _._', '&':'._...', ':':'_ _ _...', ';':'_._._.', '/':'_.._.', '_':'.._ _._', \n",
    "    '=':'_..._', '+':'._._.', '-':'_...._', '$':'..._.._', '@':'._ _._.', ' ':' '}\n",
    "str2=encode_it.lower()      # converting whole string to lower cases because in morse code upper and lower cases are same.\n",
    "str3=''                      # to store morse code so that we can use it to decode.  \n",
    "print(\"Encode using morse codes:-\")\n",
    "for i in str2:                      # iterate over string\n",
    "    for key,value in dct1.items():    # iterate over dictionary containing morse codes.\n",
    "        if i==key:                    # match the element of string with the key in dict\n",
    "            # adding morse code of each letter by adding any character which is not in morse codes and we can use it to split.\n",
    "            str3+=value+'%'\n",
    "            print(value,end='')            # print their code present in the value of corresponding key\n",
    "print('\\n')\n",
    "\n",
    "lst=str3.split('%')                        # split the string.\n",
    "print(\"Decode using morse codes :-\")\n",
    "for j in range(len(lst)):                  # range is len(lst) to itrate over lst.\n",
    "    for key,value in dct1.items():         # iterate over dictionary\n",
    "        if value==lst[j]:                  # match morse code from dict with the lst element which is also a code of a letter\n",
    "            print(encode_it[j],end='')     # print the element from the given string of the same index of lst."
   ]
  }
 ],
 "metadata": {
  "kernelspec": {
   "display_name": "Python 3",
   "language": "python",
   "name": "python3"
  },
  "language_info": {
   "codemirror_mode": {
    "name": "ipython",
    "version": 3
   },
   "file_extension": ".py",
   "mimetype": "text/x-python",
   "name": "python",
   "nbconvert_exporter": "python",
   "pygments_lexer": "ipython3",
   "version": "3.11.4"
  }
 },
 "nbformat": 4,
 "nbformat_minor": 2
}
